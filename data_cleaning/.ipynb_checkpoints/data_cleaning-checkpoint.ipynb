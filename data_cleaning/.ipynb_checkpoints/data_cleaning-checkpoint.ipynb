{
 "cells": [
  {
   "cell_type": "code",
   "execution_count": 34,
   "metadata": {},
   "outputs": [],
   "source": [
    "import pandas as pd\n",
    "import numpy as np\n",
    "import re\n",
    "import emoji\n",
    "import nltk"
   ]
  },
  {
   "cell_type": "code",
   "execution_count": 69,
   "metadata": {},
   "outputs": [],
   "source": [
    "tweets = pd.read_csv('D:\\\\Github\\\\financial_dashboard\\data_scrappers\\\\tweets.csv', index_col=0)\n",
    "# wsb_posts = pd.read_csv('D:\\\\Github\\\\financial_dashboard\\data_scrappers\\\\wsb_posts.csv')\n",
    "wsb_titles = pd.read_csv('D:\\\\Github\\\\financial_dashboard\\data_scrappers\\\\wsb_title.csv')"
   ]
  },
  {
   "cell_type": "code",
   "execution_count": 70,
   "metadata": {},
   "outputs": [
    {
     "name": "stdout",
     "output_type": "stream",
     "text": [
      "(193729, 3)\n",
      "(183, 15)\n",
      "(938, 15)\n"
     ]
    }
   ],
   "source": [
    "print(tweets.shape)\n",
    "print(wsb_posts.shape)\n",
    "print(wsb_titles.shape)"
   ]
  },
  {
   "cell_type": "markdown",
   "metadata": {},
   "source": [
    "## Twitter"
   ]
  },
  {
   "cell_type": "code",
   "execution_count": 71,
   "metadata": {},
   "outputs": [],
   "source": [
    "tweets.columns = ['Date','Ticker','Tweet']"
   ]
  },
  {
   "cell_type": "code",
   "execution_count": 72,
   "metadata": {
    "scrolled": true
   },
   "outputs": [
    {
     "data": {
      "text/html": [
       "<div>\n",
       "<style scoped>\n",
       "    .dataframe tbody tr th:only-of-type {\n",
       "        vertical-align: middle;\n",
       "    }\n",
       "\n",
       "    .dataframe tbody tr th {\n",
       "        vertical-align: top;\n",
       "    }\n",
       "\n",
       "    .dataframe thead th {\n",
       "        text-align: right;\n",
       "    }\n",
       "</style>\n",
       "<table border=\"1\" class=\"dataframe\">\n",
       "  <thead>\n",
       "    <tr style=\"text-align: right;\">\n",
       "      <th></th>\n",
       "      <th>Date</th>\n",
       "      <th>Ticker</th>\n",
       "      <th>Tweet</th>\n",
       "    </tr>\n",
       "  </thead>\n",
       "  <tbody>\n",
       "    <tr>\n",
       "      <th>0</th>\n",
       "      <td>2021-03-30 19:10:08</td>\n",
       "      <td>GME</td>\n",
       "      <td>There's a LOT going on in the financial market...</td>\n",
       "    </tr>\n",
       "    <tr>\n",
       "      <th>1</th>\n",
       "      <td>2021-03-30 12:45:00</td>\n",
       "      <td>GME</td>\n",
       "      <td>*GameStop hires another Amazon executive as Ch...</td>\n",
       "    </tr>\n",
       "    <tr>\n",
       "      <th>2</th>\n",
       "      <td>2021-03-29 23:37:36</td>\n",
       "      <td>GME</td>\n",
       "      <td>Little guy wants to go YOLO long $1K GameStop ...</td>\n",
       "    </tr>\n",
       "    <tr>\n",
       "      <th>3</th>\n",
       "      <td>2021-04-01 05:37:05</td>\n",
       "      <td>GME</td>\n",
       "      <td>RT @charliebilello: March...\\nGameStop $GME: +...</td>\n",
       "    </tr>\n",
       "    <tr>\n",
       "      <th>4</th>\n",
       "      <td>2021-04-01 05:36:52</td>\n",
       "      <td>GME</td>\n",
       "      <td>Someone just left me positive feedback for our...</td>\n",
       "    </tr>\n",
       "  </tbody>\n",
       "</table>\n",
       "</div>"
      ],
      "text/plain": [
       "                  Date Ticker  \\\n",
       "0  2021-03-30 19:10:08    GME   \n",
       "1  2021-03-30 12:45:00    GME   \n",
       "2  2021-03-29 23:37:36    GME   \n",
       "3  2021-04-01 05:37:05    GME   \n",
       "4  2021-04-01 05:36:52    GME   \n",
       "\n",
       "                                               Tweet  \n",
       "0  There's a LOT going on in the financial market...  \n",
       "1  *GameStop hires another Amazon executive as Ch...  \n",
       "2  Little guy wants to go YOLO long $1K GameStop ...  \n",
       "3  RT @charliebilello: March...\\nGameStop $GME: +...  \n",
       "4  Someone just left me positive feedback for our...  "
      ]
     },
     "execution_count": 72,
     "metadata": {},
     "output_type": "execute_result"
    }
   ],
   "source": [
    "tweets.head()"
   ]
  },
  {
   "cell_type": "code",
   "execution_count": 73,
   "metadata": {},
   "outputs": [
    {
     "data": {
      "text/plain": [
       "Date      object\n",
       "Ticker    object\n",
       "Tweet     object\n",
       "dtype: object"
      ]
     },
     "execution_count": 73,
     "metadata": {},
     "output_type": "execute_result"
    }
   ],
   "source": [
    "tweets.dtypes "
   ]
  },
  {
   "cell_type": "code",
   "execution_count": 74,
   "metadata": {},
   "outputs": [],
   "source": [
    "# nltk.download('words')\n",
    "# words = set(nltk.corpus.words.words())\n",
    "\n",
    "def cleaner(tweet):\n",
    "    tweet = re.sub(r\"RT @[\\w]*:\",\"\",tweet)\n",
    "    tweet = re.sub(\"@[A-Za-z0-9]+\",\"\",tweet) #Remove @ sign\n",
    "    tweet = re.sub(r\"(?:\\@|http?\\://|https?\\://|www)\\S+\", \"\", tweet) #Remove http links\n",
    "    tweet = re.sub(r\"[^a-zA-Z\\s]\",\"\",tweet)\n",
    "    tweet = \" \".join(tweet.split())\n",
    "    tweet = ''.join(c for c in tweet if c not in emoji.UNICODE_EMOJI) #Remove Emojis\n",
    "    tweet = tweet.replace(\"#\", \"\").replace(\"_\", \" \").replace('*','').replace('$','') #Remove hashtag sign but keep the text\n",
    "#     tweet = \" \".join(w for w in nltk.wordpunct_tokenize(tweet) \\\n",
    "#          if w.lower() in words or not w.isalpha())\n",
    "    return tweet\n",
    "\n",
    "# https://stackoverflow.com/questions/64719706/cleaning-twitter-data-pandas-python"
   ]
  },
  {
   "cell_type": "code",
   "execution_count": 75,
   "metadata": {},
   "outputs": [],
   "source": [
    "tweets['Tweet'] = tweets['Tweet'].map(lambda x: cleaner(x))"
   ]
  },
  {
   "cell_type": "code",
   "execution_count": 76,
   "metadata": {},
   "outputs": [
    {
     "name": "stderr",
     "output_type": "stream",
     "text": [
      "[nltk_data] Downloading package vader_lexicon to\n",
      "[nltk_data]     C:\\Users\\jacob\\AppData\\Roaming\\nltk_data...\n",
      "[nltk_data]   Package vader_lexicon is already up-to-date!\n"
     ]
    }
   ],
   "source": [
    "import nltk\n",
    "nltk.download('vader_lexicon')\n",
    "from nltk.sentiment.vader import SentimentIntensityAnalyzer\n",
    "\n",
    "analyzer = SentimentIntensityAnalyzer()"
   ]
  },
  {
   "cell_type": "markdown",
   "metadata": {},
   "source": [
    "## Reddit "
   ]
  },
  {
   "cell_type": "code",
   "execution_count": 111,
   "metadata": {},
   "outputs": [],
   "source": [
    "wsb_titles = wsb_titles.dropna()"
   ]
  },
  {
   "cell_type": "code",
   "execution_count": 112,
   "metadata": {},
   "outputs": [
    {
     "data": {
      "text/html": [
       "<div>\n",
       "<style scoped>\n",
       "    .dataframe tbody tr th:only-of-type {\n",
       "        vertical-align: middle;\n",
       "    }\n",
       "\n",
       "    .dataframe tbody tr th {\n",
       "        vertical-align: top;\n",
       "    }\n",
       "\n",
       "    .dataframe thead th {\n",
       "        text-align: right;\n",
       "    }\n",
       "</style>\n",
       "<table border=\"1\" class=\"dataframe\">\n",
       "  <thead>\n",
       "    <tr style=\"text-align: right;\">\n",
       "      <th></th>\n",
       "      <th>GME</th>\n",
       "      <th>AMC</th>\n",
       "      <th>RKT</th>\n",
       "      <th>BB</th>\n",
       "      <th>PLTR</th>\n",
       "      <th>SNDL</th>\n",
       "      <th>SOS</th>\n",
       "      <th>VIAC</th>\n",
       "      <th>NIO</th>\n",
       "      <th>ASO</th>\n",
       "      <th>NEXT</th>\n",
       "      <th>TSLA</th>\n",
       "      <th>DM</th>\n",
       "      <th>SPCE</th>\n",
       "      <th>DISCB</th>\n",
       "    </tr>\n",
       "  </thead>\n",
       "  <tbody>\n",
       "    <tr>\n",
       "      <th>0</th>\n",
       "      <td>A perfect representation of all of us retarded...</td>\n",
       "      <td>AMC 500million Addition???</td>\n",
       "      <td>$RKT Do we not stan this stock anymore? Back t...</td>\n",
       "      <td>Most discussed stocks across Reddit and Twitte...</td>\n",
       "      <td>YOLO $PLTR</td>\n",
       "      <td>ULCC, SNDL 👍😎</td>\n",
       "      <td>SOS Ltd</td>\n",
       "      <td>VIAC I’ve gone compete savage ..</td>\n",
       "      <td>My NIO position</td>\n",
       "      <td>Chart looking like stairway to heaven. I like ...</td>\n",
       "      <td>THE NEXT YOLO! $AYX</td>\n",
       "      <td>$TSLA CALL OPTIONS WENT CRAZY OVER NIGHT</td>\n",
       "      <td>$CADMF cannabis stock, company that installs k...</td>\n",
       "      <td>SPCE</td>\n",
       "      <td>Semi YOLO into VIACA, hoping it will shoot up ...</td>\n",
       "    </tr>\n",
       "    <tr>\n",
       "      <th>1</th>\n",
       "      <td>Xi Jinping just confirmed the rumors of him ho...</td>\n",
       "      <td>Hedgies really trying to drop AMC 10% to get t...</td>\n",
       "      <td>Thoughts on Zacks.com info? I signed up for a ...</td>\n",
       "      <td>Switching over to BBIG</td>\n",
       "      <td>PLTR is a brown smear</td>\n",
       "      <td>The Market is Green, NASDAQ at an all-time hig...</td>\n",
       "      <td>$SOS short squeeze</td>\n",
       "      <td>VIACOM and TANGER</td>\n",
       "      <td>NIO is back on the menu boys!</td>\n",
       "      <td>(DD) ASO options ladder is enticing, high shor...</td>\n",
       "      <td>$AYX IS THE NEXT YOLO PLAY</td>\n",
       "      <td>$TSLA Musk’s Warming Up to $SLNG Gas Evident O...</td>\n",
       "      <td>Been watching NNDM for the past 6 months or so...</td>\n",
       "      <td>$SPCE stock is starting shorting like crazy. T...</td>\n",
       "      <td>DISCB &amp;amp; DISCA Dispersion</td>\n",
       "    </tr>\n",
       "    <tr>\n",
       "      <th>2</th>\n",
       "      <td>TD Am has changed the default trade action to ...</td>\n",
       "      <td>Hold GME, KOSS, AMC, EXPR, but Don't hold too ...</td>\n",
       "      <td>RKT is ready to join the S&amp;amp;P 500 in May</td>\n",
       "      <td>TUBBYCOIN TO THE MOON 🚀🚀🚀</td>\n",
       "      <td>PLTR _ BIDEN = 🚀🚀🚀</td>\n",
       "      <td>Go home, SNDL. You're drunk.</td>\n",
       "      <td>SOS is moving</td>\n",
       "      <td>VIAC - A reel opportunity</td>\n",
       "      <td>BUY NIO NOW to the moon!🚀🚀🚀🚀🚀🚀🚀</td>\n",
       "      <td>Yolo Update ASO breaking ATH</td>\n",
       "      <td>YOLO! NEXT BIG PLAY WILL BE $AYX!</td>\n",
       "      <td>$64k YOLO on TSLA $680c 4/1 - GAINS</td>\n",
       "      <td>Been watching NNDM for the past 6 months or so...</td>\n",
       "      <td>Why $SPCE can go to the moon</td>\n",
       "      <td>what are you guys thinking about $DISCB should...</td>\n",
       "    </tr>\n",
       "  </tbody>\n",
       "</table>\n",
       "</div>"
      ],
      "text/plain": [
       "                                                 GME  \\\n",
       "0  A perfect representation of all of us retarded...   \n",
       "1  Xi Jinping just confirmed the rumors of him ho...   \n",
       "2  TD Am has changed the default trade action to ...   \n",
       "\n",
       "                                                 AMC  \\\n",
       "0                         AMC 500million Addition???   \n",
       "1  Hedgies really trying to drop AMC 10% to get t...   \n",
       "2  Hold GME, KOSS, AMC, EXPR, but Don't hold too ...   \n",
       "\n",
       "                                                 RKT  \\\n",
       "0  $RKT Do we not stan this stock anymore? Back t...   \n",
       "1  Thoughts on Zacks.com info? I signed up for a ...   \n",
       "2        RKT is ready to join the S&amp;P 500 in May   \n",
       "\n",
       "                                                  BB                   PLTR  \\\n",
       "0  Most discussed stocks across Reddit and Twitte...             YOLO $PLTR   \n",
       "1                             Switching over to BBIG  PLTR is a brown smear   \n",
       "2                          TUBBYCOIN TO THE MOON 🚀🚀🚀     PLTR _ BIDEN = 🚀🚀🚀   \n",
       "\n",
       "                                                SNDL                 SOS  \\\n",
       "0                                      ULCC, SNDL 👍😎             SOS Ltd   \n",
       "1  The Market is Green, NASDAQ at an all-time hig...  $SOS short squeeze   \n",
       "2                       Go home, SNDL. You're drunk.       SOS is moving   \n",
       "\n",
       "                               VIAC                              NIO  \\\n",
       "0  VIAC I’ve gone compete savage ..                  My NIO position   \n",
       "1                 VIACOM and TANGER    NIO is back on the menu boys!   \n",
       "2         VIAC - A reel opportunity  BUY NIO NOW to the moon!🚀🚀🚀🚀🚀🚀🚀   \n",
       "\n",
       "                                                 ASO  \\\n",
       "0  Chart looking like stairway to heaven. I like ...   \n",
       "1  (DD) ASO options ladder is enticing, high shor...   \n",
       "2                       Yolo Update ASO breaking ATH   \n",
       "\n",
       "                                NEXT  \\\n",
       "0                THE NEXT YOLO! $AYX   \n",
       "1         $AYX IS THE NEXT YOLO PLAY   \n",
       "2  YOLO! NEXT BIG PLAY WILL BE $AYX!   \n",
       "\n",
       "                                                TSLA  \\\n",
       "0           $TSLA CALL OPTIONS WENT CRAZY OVER NIGHT   \n",
       "1  $TSLA Musk’s Warming Up to $SLNG Gas Evident O...   \n",
       "2                $64k YOLO on TSLA $680c 4/1 - GAINS   \n",
       "\n",
       "                                                  DM  \\\n",
       "0  $CADMF cannabis stock, company that installs k...   \n",
       "1  Been watching NNDM for the past 6 months or so...   \n",
       "2  Been watching NNDM for the past 6 months or so...   \n",
       "\n",
       "                                                SPCE  \\\n",
       "0                                               SPCE   \n",
       "1  $SPCE stock is starting shorting like crazy. T...   \n",
       "2                       Why $SPCE can go to the moon   \n",
       "\n",
       "                                               DISCB  \n",
       "0  Semi YOLO into VIACA, hoping it will shoot up ...  \n",
       "1                       DISCB &amp; DISCA Dispersion  \n",
       "2  what are you guys thinking about $DISCB should...  "
      ]
     },
     "execution_count": 112,
     "metadata": {},
     "output_type": "execute_result"
    }
   ],
   "source": [
    "wsb_titles.head(3)"
   ]
  },
  {
   "cell_type": "code",
   "execution_count": 113,
   "metadata": {
    "scrolled": true
   },
   "outputs": [
    {
     "data": {
      "text/plain": [
       "0     A perfect representation of all of us retarded...\n",
       "1     Xi Jinping just confirmed the rumors of him ho...\n",
       "2     TD Am has changed the default trade action to ...\n",
       "3     GME Stock The Case for GameStop Hitting This Year\n",
       "4     They know we knowthis kitty is roaring louder ...\n",
       "5     Hold GME KOSS AMC EXPR but Dont hold too long ...\n",
       "6     My friend made me a WSB light that changes col...\n",
       "7     GME ready to fly based on fish hanging from be...\n",
       "8     Adios AMC and hello GME Note Note financial ad...\n",
       "9     GME and moon it moons everytime moon is closer...\n",
       "10                                         GME MEGA CAT\n",
       "Name: GME, dtype: object"
      ]
     },
     "execution_count": 113,
     "metadata": {},
     "output_type": "execute_result"
    }
   ],
   "source": [
    "wsb_titles['GME'].map(lambda x: cleaner(x))"
   ]
  },
  {
   "cell_type": "code",
   "execution_count": 115,
   "metadata": {
    "scrolled": false
   },
   "outputs": [
    {
     "name": "stderr",
     "output_type": "stream",
     "text": [
      "<ipython-input-115-c75f70136f41>:2: SettingWithCopyWarning: \n",
      "A value is trying to be set on a copy of a slice from a DataFrame.\n",
      "Try using .loc[row_indexer,col_indexer] = value instead\n",
      "\n",
      "See the caveats in the documentation: https://pandas.pydata.org/pandas-docs/stable/user_guide/indexing.html#returning-a-view-versus-a-copy\n",
      "  wsb_titles[col] = wsb_titles[col].map(lambda x: cleaner(x))\n"
     ]
    }
   ],
   "source": [
    "for col in wsb_titles.columns:\n",
    "    wsb_titles[col] = wsb_titles[col].map(lambda x: cleaner(x))\n"
   ]
  },
  {
   "cell_type": "code",
   "execution_count": 116,
   "metadata": {},
   "outputs": [
    {
     "data": {
      "text/html": [
       "<div>\n",
       "<style scoped>\n",
       "    .dataframe tbody tr th:only-of-type {\n",
       "        vertical-align: middle;\n",
       "    }\n",
       "\n",
       "    .dataframe tbody tr th {\n",
       "        vertical-align: top;\n",
       "    }\n",
       "\n",
       "    .dataframe thead th {\n",
       "        text-align: right;\n",
       "    }\n",
       "</style>\n",
       "<table border=\"1\" class=\"dataframe\">\n",
       "  <thead>\n",
       "    <tr style=\"text-align: right;\">\n",
       "      <th></th>\n",
       "      <th>GME</th>\n",
       "      <th>AMC</th>\n",
       "      <th>RKT</th>\n",
       "      <th>BB</th>\n",
       "      <th>PLTR</th>\n",
       "      <th>SNDL</th>\n",
       "      <th>SOS</th>\n",
       "      <th>VIAC</th>\n",
       "      <th>NIO</th>\n",
       "      <th>ASO</th>\n",
       "      <th>NEXT</th>\n",
       "      <th>TSLA</th>\n",
       "      <th>DM</th>\n",
       "      <th>SPCE</th>\n",
       "      <th>DISCB</th>\n",
       "    </tr>\n",
       "  </thead>\n",
       "  <tbody>\n",
       "    <tr>\n",
       "      <th>0</th>\n",
       "      <td>A perfect representation of all of us retarded...</td>\n",
       "      <td>AMC million Addition</td>\n",
       "      <td>RKT Do we not stan this stock anymore Back to ...</td>\n",
       "      <td>Most discussed stocks across Reddit and Twitte...</td>\n",
       "      <td>YOLO PLTR</td>\n",
       "      <td>ULCC SNDL</td>\n",
       "      <td>SOS Ltd</td>\n",
       "      <td>VIAC Ive gone compete savage</td>\n",
       "      <td>My NIO position</td>\n",
       "      <td>Chart looking like stairway to heaven I like t...</td>\n",
       "      <td>THE NEXT YOLO AYX</td>\n",
       "      <td>TSLA CALL OPTIONS WENT CRAZY OVER NIGHT</td>\n",
       "      <td>CADMF cannabis stock company that installs kio...</td>\n",
       "      <td>SPCE</td>\n",
       "      <td>Semi YOLO into VIACA hoping it will shoot up l...</td>\n",
       "    </tr>\n",
       "    <tr>\n",
       "      <th>1</th>\n",
       "      <td>Xi Jinping just confirmed the rumors of him ho...</td>\n",
       "      <td>Hedgies really trying to drop AMC to get the S...</td>\n",
       "      <td>Thoughts on Zackscom info I signed up for a mo...</td>\n",
       "      <td>Switching over to BBIG</td>\n",
       "      <td>PLTR is a brown smear</td>\n",
       "      <td>The Market is Green NASDAQ at an alltime highW...</td>\n",
       "      <td>SOS short squeeze</td>\n",
       "      <td>VIACOM and TANGER</td>\n",
       "      <td>NIO is back on the menu boys</td>\n",
       "      <td>DD ASO options ladder is enticing high short i...</td>\n",
       "      <td>AYX IS THE NEXT YOLO PLAY</td>\n",
       "      <td>TSLA Musks Warming Up to SLNG Gas Evident Once...</td>\n",
       "      <td>Been watching NNDM for the past months or so a...</td>\n",
       "      <td>SPCE stock is starting shorting like crazy The...</td>\n",
       "      <td>DISCB amp DISCA Dispersion</td>\n",
       "    </tr>\n",
       "    <tr>\n",
       "      <th>2</th>\n",
       "      <td>TD Am has changed the default trade action to ...</td>\n",
       "      <td>Hold GME KOSS AMC EXPR but Dont hold too long ...</td>\n",
       "      <td>RKT is ready to join the SampP in May</td>\n",
       "      <td>TUBBYCOIN TO THE MOON</td>\n",
       "      <td>PLTR BIDEN</td>\n",
       "      <td>Go home SNDL Youre drunk</td>\n",
       "      <td>SOS is moving</td>\n",
       "      <td>VIAC A reel opportunity</td>\n",
       "      <td>BUY NIO NOW to the moon</td>\n",
       "      <td>Yolo Update ASO breaking ATH</td>\n",
       "      <td>YOLO NEXT BIG PLAY WILL BE AYX</td>\n",
       "      <td>k YOLO on TSLA c GAINS</td>\n",
       "      <td>Been watching NNDM for the past months or so a...</td>\n",
       "      <td>Why SPCE can go to the moon</td>\n",
       "      <td>what are you guys thinking about DISCB should ...</td>\n",
       "    </tr>\n",
       "  </tbody>\n",
       "</table>\n",
       "</div>"
      ],
      "text/plain": [
       "                                                 GME  \\\n",
       "0  A perfect representation of all of us retarded...   \n",
       "1  Xi Jinping just confirmed the rumors of him ho...   \n",
       "2  TD Am has changed the default trade action to ...   \n",
       "\n",
       "                                                 AMC  \\\n",
       "0                               AMC million Addition   \n",
       "1  Hedgies really trying to drop AMC to get the S...   \n",
       "2  Hold GME KOSS AMC EXPR but Dont hold too long ...   \n",
       "\n",
       "                                                 RKT  \\\n",
       "0  RKT Do we not stan this stock anymore Back to ...   \n",
       "1  Thoughts on Zackscom info I signed up for a mo...   \n",
       "2              RKT is ready to join the SampP in May   \n",
       "\n",
       "                                                  BB                   PLTR  \\\n",
       "0  Most discussed stocks across Reddit and Twitte...              YOLO PLTR   \n",
       "1                             Switching over to BBIG  PLTR is a brown smear   \n",
       "2                              TUBBYCOIN TO THE MOON             PLTR BIDEN   \n",
       "\n",
       "                                                SNDL                SOS  \\\n",
       "0                                          ULCC SNDL            SOS Ltd   \n",
       "1  The Market is Green NASDAQ at an alltime highW...  SOS short squeeze   \n",
       "2                           Go home SNDL Youre drunk      SOS is moving   \n",
       "\n",
       "                           VIAC                           NIO  \\\n",
       "0  VIAC Ive gone compete savage               My NIO position   \n",
       "1             VIACOM and TANGER  NIO is back on the menu boys   \n",
       "2       VIAC A reel opportunity       BUY NIO NOW to the moon   \n",
       "\n",
       "                                                 ASO  \\\n",
       "0  Chart looking like stairway to heaven I like t...   \n",
       "1  DD ASO options ladder is enticing high short i...   \n",
       "2                       Yolo Update ASO breaking ATH   \n",
       "\n",
       "                             NEXT  \\\n",
       "0               THE NEXT YOLO AYX   \n",
       "1       AYX IS THE NEXT YOLO PLAY   \n",
       "2  YOLO NEXT BIG PLAY WILL BE AYX   \n",
       "\n",
       "                                                TSLA  \\\n",
       "0            TSLA CALL OPTIONS WENT CRAZY OVER NIGHT   \n",
       "1  TSLA Musks Warming Up to SLNG Gas Evident Once...   \n",
       "2                             k YOLO on TSLA c GAINS   \n",
       "\n",
       "                                                  DM  \\\n",
       "0  CADMF cannabis stock company that installs kio...   \n",
       "1  Been watching NNDM for the past months or so a...   \n",
       "2  Been watching NNDM for the past months or so a...   \n",
       "\n",
       "                                                SPCE  \\\n",
       "0                                               SPCE   \n",
       "1  SPCE stock is starting shorting like crazy The...   \n",
       "2                        Why SPCE can go to the moon   \n",
       "\n",
       "                                               DISCB  \n",
       "0  Semi YOLO into VIACA hoping it will shoot up l...  \n",
       "1                         DISCB amp DISCA Dispersion  \n",
       "2  what are you guys thinking about DISCB should ...  "
      ]
     },
     "execution_count": 116,
     "metadata": {},
     "output_type": "execute_result"
    }
   ],
   "source": [
    "wsb_titles.head(3)"
   ]
  },
  {
   "cell_type": "code",
   "execution_count": null,
   "metadata": {},
   "outputs": [],
   "source": []
  }
 ],
 "metadata": {
  "kernelspec": {
   "display_name": "Python 3",
   "language": "python",
   "name": "python3"
  },
  "language_info": {
   "codemirror_mode": {
    "name": "ipython",
    "version": 3
   },
   "file_extension": ".py",
   "mimetype": "text/x-python",
   "name": "python",
   "nbconvert_exporter": "python",
   "pygments_lexer": "ipython3",
   "version": "3.8.5"
  }
 },
 "nbformat": 4,
 "nbformat_minor": 4
}
